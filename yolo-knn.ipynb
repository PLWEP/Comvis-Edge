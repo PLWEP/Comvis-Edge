{
 "cells": [
  {
   "cell_type": "code",
   "execution_count": 1,
   "metadata": {},
   "outputs": [],
   "source": [
    "import cv2\n",
    "import numpy as np\n",
    "import pickle\n",
    "import math"
   ]
  },
  {
   "cell_type": "code",
   "execution_count": 2,
   "metadata": {},
   "outputs": [],
   "source": [
    "class YOLOv8_face:\n",
    "    def __init__(self, path, conf_thres=0.2, iou_thres=0.5):\n",
    "        self.conf_threshold = conf_thres\n",
    "        self.iou_threshold = iou_thres\n",
    "        self.class_names = ['face']\n",
    "        self.num_classes = len(self.class_names)\n",
    "\n",
    "        # Initialize model\n",
    "        self.net = cv2.dnn.readNet(path)\n",
    "        self.input_height = 640\n",
    "        self.input_width = 640\n",
    "        self.reg_max = 16\n",
    "\n",
    "        self.project = np.arange(self.reg_max)\n",
    "        self.strides = (8, 16, 32)\n",
    "        self.feats_hw = [(math.ceil(self.input_height / self.strides[i]), math.ceil(self.input_width / self.strides[i])) for i in range(len(self.strides))]\n",
    "        self.anchors = self.make_anchors(self.feats_hw)\n",
    "\n",
    "    def make_anchors(self, feats_hw, grid_cell_offset=0.5):\n",
    "        \"\"\"Generate anchors from features.\"\"\"\n",
    "        anchor_points = {}\n",
    "        for i, stride in enumerate(self.strides):\n",
    "            h,w = feats_hw[i]\n",
    "            x = np.arange(0, w) + grid_cell_offset\n",
    "            y = np.arange(0, h) + grid_cell_offset  \n",
    "            sx, sy = np.meshgrid(x, y)\n",
    "            anchor_points[stride] = np.stack((sx, sy), axis=-1).reshape(-1, 2)\n",
    "        return anchor_points\n",
    "\n",
    "    def softmax(self, x, axis=1):\n",
    "        x_exp = np.exp(x)\n",
    "        x_sum = np.sum(x_exp, axis=axis, keepdims=True)\n",
    "        s = x_exp / x_sum\n",
    "        return s\n",
    "    \n",
    "    def resize_image(self, srcimg, keep_ratio=True):\n",
    "        top, left, newh, neww = 0, 0, self.input_width, self.input_height\n",
    "        if keep_ratio and srcimg.shape[0] != srcimg.shape[1]:\n",
    "            hw_scale = srcimg.shape[0] / srcimg.shape[1]\n",
    "            if hw_scale > 1:\n",
    "                newh, neww = self.input_height, int(self.input_width / hw_scale)\n",
    "                img = cv2.resize(srcimg, (neww, newh), interpolation=cv2.INTER_AREA)\n",
    "                left = int((self.input_width - neww) * 0.5)\n",
    "                img = cv2.copyMakeBorder(img, 0, 0, left, self.input_width - neww - left, cv2.BORDER_CONSTANT,\n",
    "                                            value=(0, 0, 0))\n",
    "            else:\n",
    "                newh, neww = int(self.input_height * hw_scale), self.input_width\n",
    "                img = cv2.resize(srcimg, (neww, newh), interpolation=cv2.INTER_AREA)\n",
    "                top = int((self.input_height - newh) * 0.5)\n",
    "                img = cv2.copyMakeBorder(img, top, self.input_height - newh - top, 0, 0, cv2.BORDER_CONSTANT,\n",
    "                                            value=(0, 0, 0))\n",
    "        else:\n",
    "            img = cv2.resize(srcimg, (self.input_width, self.input_height), interpolation=cv2.INTER_AREA)\n",
    "        return img, newh, neww, top, left\n",
    "\n",
    "    def detect(self, srcimg):\n",
    "        input_img, newh, neww, padh, padw = self.resize_image(cv2.cvtColor(srcimg, cv2.COLOR_BGR2RGB))\n",
    "        scale_h, scale_w = srcimg.shape[0]/newh, srcimg.shape[1]/neww\n",
    "        input_img = input_img.astype(np.float32) / 255.0\n",
    "\n",
    "        blob = cv2.dnn.blobFromImage(input_img)\n",
    "        self.net.setInput(blob)\n",
    "        outputs = self.net.forward(self.net.getUnconnectedOutLayersNames())\n",
    "        det_bboxes, det_conf, det_classid, landmarks = self.post_process(outputs, scale_h, scale_w, padh, padw)\n",
    "        return det_bboxes, det_conf, det_classid, landmarks\n",
    "\n",
    "    def post_process(self, preds, scale_h, scale_w, padh, padw):\n",
    "        bboxes, scores, landmarks = [], [], []\n",
    "        for i, pred in enumerate(preds):\n",
    "            stride = int(self.input_height/pred.shape[2])\n",
    "            pred = pred.transpose((0, 2, 3, 1))\n",
    "            \n",
    "            box = pred[..., :self.reg_max * 4]\n",
    "            cls = 1 / (1 + np.exp(-pred[..., self.reg_max * 4:-15])).reshape((-1,1))\n",
    "            kpts = pred[..., -15:].reshape((-1,15))\n",
    "\n",
    "            tmp = box.reshape(-1, 4, self.reg_max)\n",
    "            bbox_pred = self.softmax(tmp, axis=-1)\n",
    "            bbox_pred = np.dot(bbox_pred, self.project).reshape((-1,4))\n",
    "\n",
    "            bbox = self.distance2bbox(self.anchors[stride], bbox_pred, max_shape=(self.input_height, self.input_width)) * stride\n",
    "            kpts[:, 0::3] = (kpts[:, 0::3] * 2.0 + (self.anchors[stride][:, 0].reshape((-1,1)) - 0.5)) * stride\n",
    "            kpts[:, 1::3] = (kpts[:, 1::3] * 2.0 + (self.anchors[stride][:, 1].reshape((-1,1)) - 0.5)) * stride\n",
    "            kpts[:, 2::3] = 1 / (1+np.exp(-kpts[:, 2::3]))\n",
    "\n",
    "            bbox -= np.array([[padw, padh, padw, padh]])\n",
    "            bbox *= np.array([[scale_w, scale_h, scale_w, scale_h]])\n",
    "            kpts -= np.tile(np.array([padw, padh, 0]), 5).reshape((1,15))\n",
    "            kpts *= np.tile(np.array([scale_w, scale_h, 1]), 5).reshape((1,15))\n",
    "\n",
    "            bboxes.append(bbox)\n",
    "            scores.append(cls)\n",
    "            landmarks.append(kpts)\n",
    "\n",
    "        bboxes = np.concatenate(bboxes, axis=0)\n",
    "        scores = np.concatenate(scores, axis=0)\n",
    "        landmarks = np.concatenate(landmarks, axis=0)\n",
    "    \n",
    "        bboxes_wh = bboxes.copy()\n",
    "        bboxes_wh[:, 2:4] = bboxes[:, 2:4] - bboxes[:, 0:2]\n",
    "        classIds = np.argmax(scores, axis=1)\n",
    "        confidences = np.max(scores, axis=1)\n",
    "        \n",
    "        mask = confidences>self.conf_threshold\n",
    "        bboxes_wh = bboxes_wh[mask]\n",
    "        confidences = confidences[mask]\n",
    "        classIds = classIds[mask]\n",
    "        landmarks = landmarks[mask]\n",
    "        \n",
    "        indices = cv2.dnn.NMSBoxes(bboxes_wh.tolist(), confidences.tolist(), self.conf_threshold,\n",
    "                                    self.iou_threshold)\n",
    "                                    \n",
    "        if len(indices) > 0:\n",
    "            mlvl_bboxes = bboxes_wh[indices]\n",
    "            confidences = confidences[indices]\n",
    "            classIds = classIds[indices]\n",
    "            landmarks = landmarks[indices]\n",
    "            return mlvl_bboxes, confidences, classIds, landmarks\n",
    "        else:\n",
    "            return np.array([]), np.array([]), np.array([]), np.array([])\n",
    "\n",
    "    def distance2bbox(self, points, distance, max_shape=None):\n",
    "        x1 = points[:, 0] - distance[:, 0]\n",
    "        y1 = points[:, 1] - distance[:, 1]\n",
    "        x2 = points[:, 0] + distance[:, 2]\n",
    "        y2 = points[:, 1] + distance[:, 3]\n",
    "        if max_shape is not None:\n",
    "            x1 = np.clip(x1, 0, max_shape[1])\n",
    "            y1 = np.clip(y1, 0, max_shape[0])\n",
    "            x2 = np.clip(x2, 0, max_shape[1])\n",
    "            y2 = np.clip(y2, 0, max_shape[0])\n",
    "        return np.stack([x1, y1, x2, y2], axis=-1)\n",
    "    \n",
    "    def draw_detections(self, image, boxes, scores, kpts):\n",
    "        for box, score, kp in zip(boxes, scores, kpts):\n",
    "            x, y, w, h = box.astype(int)\n",
    "            cv2.rectangle(image, (x, y), (x + w, y + h), (0, 0, 255), thickness=1)\n",
    "            # cv2.putText(image, \"face:\"+str(round(score,2)), (x, y - 5), cv2.FONT_HERSHEY_SIMPLEX, 1, (0, 0, 255), thickness=2)\n",
    "            # for i in range(5):\n",
    "                # cv2.circle(image, (int(kp[i * 3]), int(kp[i * 3 + 1])), 4, (0, 255, 0), thickness=-1)\n",
    "        return image"
   ]
  },
  {
   "cell_type": "code",
   "execution_count": 6,
   "metadata": {
    "ExecuteTime": {
     "end_time": "2023-08-07T00:46:16.940125Z",
     "start_time": "2023-08-07T00:46:16.933570Z"
    }
   },
   "outputs": [],
   "source": [
    "def haar(img):\n",
    "    status = False\n",
    "    face_roi = []\n",
    "    YOLOv8_face_detector = YOLOv8_face(\"weight/yolov8n-face.onnx\", conf_thres=0.4, iou_thres=0.5)\n",
    "    boxes, scores, classids, kpts = YOLOv8_face_detector.detect(img)\n",
    "\n",
    "    for box, score, kp in zip(boxes, scores, kpts):\n",
    "        x, y, w, h = box.astype(int)\n",
    "        face_roi = img[y:y+h, x:x+w]\n",
    "        status = True\n",
    "    \n",
    "    return status, face_roi"
   ]
  },
  {
   "cell_type": "code",
   "execution_count": 7,
   "metadata": {
    "ExecuteTime": {
     "end_time": "2023-08-04T04:16:18.064033Z",
     "start_time": "2023-08-04T04:16:17.358811Z"
    }
   },
   "outputs": [],
   "source": [
    "loaded_model = pickle.load(open('weight/model_yolo_knn.pkl', 'rb'))"
   ]
  },
  {
   "cell_type": "markdown",
   "metadata": {},
   "source": [
    "# Test Cam"
   ]
  },
  {
   "cell_type": "code",
   "execution_count": 11,
   "metadata": {
    "ExecuteTime": {
     "end_time": "2023-08-07T01:00:35.519614Z",
     "start_time": "2023-08-07T01:00:20.941797Z"
    }
   },
   "outputs": [
    {
     "data": {
      "text/plain": [
       "-1"
      ]
     },
     "execution_count": 11,
     "metadata": {},
     "output_type": "execute_result"
    }
   ],
   "source": [
    "import cv2\n",
    "import time\n",
    "\n",
    "color = (255, 0, 0)\n",
    "cap = cv2.VideoCapture(0)\n",
    "\n",
    "# Inisialisasi variabel FPS\n",
    "fps_start_time = time.time()\n",
    "fps_counter = 0\n",
    "class_names = ['Adnya', 'Kirei', 'Niko', 'Permana', 'Putri', 'Yudha']\n",
    "\n",
    "while (cap.isOpened()):\n",
    "    ret , frame = cap.read()\n",
    "    if ret:\n",
    "        face_roi = []\n",
    "        YOLOv8_face_detector = YOLOv8_face(\"weight/yolov8n-face.onnx\", conf_thres=0.4, iou_thres=0.5)\n",
    "        boxes, scores, classids, kpts = YOLOv8_face_detector.detect(frame)\n",
    "\n",
    "        for box, score, kp in zip(boxes, scores, kpts):\n",
    "            x, y, w, h = box.astype(int)\n",
    "            face_roi = frame[y:y+h, x:x+w]\n",
    "            cv2.rectangle(frame, (x, y), (x + w, y + h), (0, 255, 0), 4)\n",
    "\n",
    "            # convert = face_roi/255.0\n",
    "            # mata = cv2.resize(convert, (225,225), interpolation = cv2.INTER_AREA)\n",
    "            # gambar_flat=[mata.flatten()]\n",
    "            # prediksi= loaded_model.predict(gambar_flat)\n",
    "            # cv2.putText(frame, f\"{class_names[prediksi[0]]}\", (20, 30), cv2.FONT_HERSHEY_SIMPLEX, 1, (0, 0, 255),2)\n",
    "        \n",
    "        fps_counter += 1\n",
    "        if (time.time() - fps_start_time) > 1:\n",
    "            fps = fps_counter / (time.time() - fps_start_time)\n",
    "            fps_counter = 0\n",
    "            fps_start_time = time.time()\n",
    "            cv2.putText(frame, f\"FPS : {round(fps, 2)}\", (frame.shape[1] - 200, 30), cv2.FONT_HERSHEY_SIMPLEX, 1, (0, 0, 255), 2)\n",
    "\n",
    "        cv2.imshow(\"Video Original\" , frame)\n",
    "        \n",
    "    else:\n",
    "        print('no video')\n",
    "        cap.set(cv2.CAP_PROP_POS_FRAMES, 0)\n",
    "        continue\n",
    "\n",
    "    if cv2.waitKey(1) & 0xFF == ord('q'):\n",
    "        break\n",
    "    \n",
    "cap.release()\n",
    "cv2.destroyAllWindows()\n",
    "cv2.waitKey(1)"
   ]
  }
 ],
 "metadata": {
  "kernelspec": {
   "display_name": "Python 3 (ipykernel)",
   "language": "python",
   "name": "python3"
  },
  "language_info": {
   "codemirror_mode": {
    "name": "ipython",
    "version": 3
   },
   "file_extension": ".py",
   "mimetype": "text/x-python",
   "name": "python",
   "nbconvert_exporter": "python",
   "pygments_lexer": "ipython3",
   "version": "3.10.12"
  },
  "toc": {
   "base_numbering": 1,
   "nav_menu": {},
   "number_sections": true,
   "sideBar": true,
   "skip_h1_title": false,
   "title_cell": "Table of Contents",
   "title_sidebar": "Contents",
   "toc_cell": false,
   "toc_position": {},
   "toc_section_display": true,
   "toc_window_display": false
  },
  "varInspector": {
   "cols": {
    "lenName": 16,
    "lenType": 16,
    "lenVar": 40
   },
   "kernels_config": {
    "python": {
     "delete_cmd_postfix": "",
     "delete_cmd_prefix": "del ",
     "library": "var_list.py",
     "varRefreshCmd": "print(var_dic_list())"
    },
    "r": {
     "delete_cmd_postfix": ") ",
     "delete_cmd_prefix": "rm(",
     "library": "var_list.r",
     "varRefreshCmd": "cat(var_dic_list()) "
    }
   },
   "types_to_exclude": [
    "module",
    "function",
    "builtin_function_or_method",
    "instance",
    "_Feature"
   ],
   "window_display": false
  }
 },
 "nbformat": 4,
 "nbformat_minor": 4
}
